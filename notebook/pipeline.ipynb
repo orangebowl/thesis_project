{
 "cells": [
  {
   "cell_type": "markdown",
   "id": "fe7016c7",
   "metadata": {},
   "source": [
    "### Here is the illustration of the framework:\n",
    "step 1: pre-trained PINN\n",
    "\n",
    "step 2: POU-RBF for self-adaptive domain decomposition\n",
    "\n",
    "step 3: FBPINN based on the that domain decomposition"
   ]
  },
  {
   "cell_type": "markdown",
   "id": "fd72bdcd",
   "metadata": {},
   "source": [
    "### Step 1:"
   ]
  },
  {
   "cell_type": "code",
   "execution_count": null,
   "id": "b72f5ccf",
   "metadata": {
    "vscode": {
     "languageId": "plaintext"
    }
   },
   "outputs": [],
   "source": []
  }
 ],
 "metadata": {
  "language_info": {
   "name": "python"
  }
 },
 "nbformat": 4,
 "nbformat_minor": 5
}
